{
 "cells": [
  {
   "cell_type": "code",
   "execution_count": 1,
   "metadata": {},
   "outputs": [],
   "source": [
    "import pandas as pd\n",
    "import numpy as np\n",
    "from sklearn.model_selection import train_test_split\n",
    "from sklearn.preprocessing import LabelEncoder\n",
    "from tensorflow.keras.preprocessing.text import Tokenizer\n",
    "from tensorflow.keras.preprocessing.sequence import pad_sequences\n",
    "from tensorflow.keras.models import Sequential\n",
    "from tensorflow.keras.layers import Embedding, LSTM, Dense, Dropout\n",
    "# Load, explore and plot data\n",
    "import seaborn as sns\n",
    "import matplotlib.pyplot as plt\n",
    "# Text pre-processing\n",
    "import tensorflow as tf\n",
    "from tensorflow.keras.callbacks import EarlyStopping\n",
    "# Modeling\n",
    "from tensorflow.keras.layers import GRU, GlobalAveragePooling1D, Flatten, SpatialDropout1D, Bidirectional\n",
    "import transformers\n"
   ]
  },
  {
   "cell_type": "code",
   "execution_count": 2,
   "metadata": {},
   "outputs": [
    {
     "data": {
      "text/html": [
       "<div>\n",
       "<style scoped>\n",
       "    .dataframe tbody tr th:only-of-type {\n",
       "        vertical-align: middle;\n",
       "    }\n",
       "\n",
       "    .dataframe tbody tr th {\n",
       "        vertical-align: top;\n",
       "    }\n",
       "\n",
       "    .dataframe thead th {\n",
       "        text-align: right;\n",
       "    }\n",
       "</style>\n",
       "<table border=\"1\" class=\"dataframe\">\n",
       "  <thead>\n",
       "    <tr style=\"text-align: right;\">\n",
       "      <th></th>\n",
       "      <th>v1</th>\n",
       "      <th>v2</th>\n",
       "    </tr>\n",
       "  </thead>\n",
       "  <tbody>\n",
       "    <tr>\n",
       "      <th>0</th>\n",
       "      <td>0</td>\n",
       "      <td>Go until jurong point, crazy.. Available only ...</td>\n",
       "    </tr>\n",
       "    <tr>\n",
       "      <th>1</th>\n",
       "      <td>0</td>\n",
       "      <td>Ok lar... Joking wif u oni...</td>\n",
       "    </tr>\n",
       "    <tr>\n",
       "      <th>2</th>\n",
       "      <td>1</td>\n",
       "      <td>Free entry in 2 a wkly comp to win FA Cup fina...</td>\n",
       "    </tr>\n",
       "    <tr>\n",
       "      <th>3</th>\n",
       "      <td>0</td>\n",
       "      <td>U dun say so early hor... U c already then say...</td>\n",
       "    </tr>\n",
       "    <tr>\n",
       "      <th>4</th>\n",
       "      <td>0</td>\n",
       "      <td>Nah I don't think he goes to usf, he lives aro...</td>\n",
       "    </tr>\n",
       "  </tbody>\n",
       "</table>\n",
       "</div>"
      ],
      "text/plain": [
       "   v1                                                 v2\n",
       "0   0  Go until jurong point, crazy.. Available only ...\n",
       "1   0                      Ok lar... Joking wif u oni...\n",
       "2   1  Free entry in 2 a wkly comp to win FA Cup fina...\n",
       "3   0  U dun say so early hor... U c already then say...\n",
       "4   0  Nah I don't think he goes to usf, he lives aro..."
      ]
     },
     "execution_count": 2,
     "metadata": {},
     "output_type": "execute_result"
    }
   ],
   "source": [
    "df = pd.read_csv('spam.csv', encoding='latin-1')\n",
    "\n",
    "df = df[['v1','v2']]\n",
    "df['v1'].replace({'ham':0, 'spam':1},inplace=True)\n",
    "df.head()"
   ]
  },
  {
   "cell_type": "code",
   "execution_count": 3,
   "metadata": {},
   "outputs": [],
   "source": [
    "\n",
    "# Paso 1: Tokenización\n",
    "tokenizer = Tokenizer(num_words=500)\n",
    "tokenizer.fit_on_texts(df['v2'])\n",
    "\n",
    "# Convertir textos a secuencias numéricas\n",
    "sequences = tokenizer.texts_to_sequences(df['v2'])\n",
    "\n",
    "# Paso 2: Padding\n",
    "max_len = max(len(seq) for seq in sequences)\n",
    "X = pad_sequences(sequences, maxlen=max_len, padding='post')\n",
    "\n",
    "# Paso 3: Creación de los Conjuntos de Entrenamiento y Prueba\n",
    "X_train, X_test, y_train, y_test = train_test_split(X, df['v1'], test_size=0.2, random_state=434)\n"
   ]
  },
  {
   "cell_type": "code",
   "execution_count": 85,
   "metadata": {},
   "outputs": [
    {
     "name": "stdout",
     "output_type": "stream",
     "text": [
      "Epoch 1/30\n",
      "140/140 [==============================] - 1s 4ms/step - loss: 0.4001 - accuracy: 0.8602 - val_loss: 0.3259 - val_accuracy: 0.8771\n",
      "Epoch 2/30\n",
      "140/140 [==============================] - 0s 3ms/step - loss: 0.2330 - accuracy: 0.8999 - val_loss: 0.1171 - val_accuracy: 0.9578\n",
      "Epoch 3/30\n",
      "140/140 [==============================] - 0s 3ms/step - loss: 0.0763 - accuracy: 0.9780 - val_loss: 0.0806 - val_accuracy: 0.9740\n",
      "Epoch 4/30\n",
      "140/140 [==============================] - 0s 3ms/step - loss: 0.0547 - accuracy: 0.9843 - val_loss: 0.0803 - val_accuracy: 0.9767\n",
      "Epoch 5/30\n",
      "140/140 [==============================] - 1s 4ms/step - loss: 0.0444 - accuracy: 0.9883 - val_loss: 0.0745 - val_accuracy: 0.9785\n",
      "Epoch 6/30\n",
      "140/140 [==============================] - 1s 4ms/step - loss: 0.0440 - accuracy: 0.9868 - val_loss: 0.0766 - val_accuracy: 0.9767\n",
      "Epoch 7/30\n",
      "140/140 [==============================] - 0s 3ms/step - loss: 0.0364 - accuracy: 0.9892 - val_loss: 0.0751 - val_accuracy: 0.9794\n",
      "Epoch 8/30\n",
      "140/140 [==============================] - 1s 4ms/step - loss: 0.0309 - accuracy: 0.9892 - val_loss: 0.0743 - val_accuracy: 0.9776\n",
      "Epoch 9/30\n",
      "140/140 [==============================] - 0s 3ms/step - loss: 0.0306 - accuracy: 0.9906 - val_loss: 0.0849 - val_accuracy: 0.9803\n",
      "Epoch 10/30\n",
      "140/140 [==============================] - 0s 3ms/step - loss: 0.0253 - accuracy: 0.9910 - val_loss: 0.0796 - val_accuracy: 0.9812\n",
      "Epoch 11/30\n",
      "140/140 [==============================] - 0s 3ms/step - loss: 0.0270 - accuracy: 0.9906 - val_loss: 0.0793 - val_accuracy: 0.9812\n",
      "Epoch 12/30\n",
      "140/140 [==============================] - 0s 3ms/step - loss: 0.0212 - accuracy: 0.9921 - val_loss: 0.0801 - val_accuracy: 0.9821\n",
      "Epoch 13/30\n",
      "140/140 [==============================] - 0s 3ms/step - loss: 0.0203 - accuracy: 0.9935 - val_loss: 0.0822 - val_accuracy: 0.9776\n",
      "Epoch 14/30\n",
      "140/140 [==============================] - 0s 3ms/step - loss: 0.0230 - accuracy: 0.9921 - val_loss: 0.0941 - val_accuracy: 0.9812\n",
      "Epoch 15/30\n",
      "140/140 [==============================] - 0s 3ms/step - loss: 0.0177 - accuracy: 0.9942 - val_loss: 0.0825 - val_accuracy: 0.9821\n",
      "Epoch 16/30\n",
      "140/140 [==============================] - 0s 3ms/step - loss: 0.0156 - accuracy: 0.9946 - val_loss: 0.1007 - val_accuracy: 0.9803\n",
      "Epoch 17/30\n",
      "140/140 [==============================] - 1s 4ms/step - loss: 0.0137 - accuracy: 0.9957 - val_loss: 0.0880 - val_accuracy: 0.9812\n",
      "Epoch 18/30\n",
      "140/140 [==============================] - 1s 4ms/step - loss: 0.0140 - accuracy: 0.9953 - val_loss: 0.0973 - val_accuracy: 0.9821\n",
      "Epoch 19/30\n",
      "140/140 [==============================] - 1s 4ms/step - loss: 0.0122 - accuracy: 0.9955 - val_loss: 0.1221 - val_accuracy: 0.9785\n",
      "Epoch 20/30\n",
      "140/140 [==============================] - 0s 3ms/step - loss: 0.0144 - accuracy: 0.9942 - val_loss: 0.0953 - val_accuracy: 0.9821\n",
      "Epoch 21/30\n",
      "140/140 [==============================] - 1s 4ms/step - loss: 0.0108 - accuracy: 0.9969 - val_loss: 0.1427 - val_accuracy: 0.9758\n",
      "Epoch 22/30\n",
      "140/140 [==============================] - 1s 4ms/step - loss: 0.0145 - accuracy: 0.9948 - val_loss: 0.1357 - val_accuracy: 0.9794\n",
      "Epoch 23/30\n",
      "140/140 [==============================] - 1s 4ms/step - loss: 0.0122 - accuracy: 0.9964 - val_loss: 0.1559 - val_accuracy: 0.9749\n",
      "Epoch 24/30\n",
      "140/140 [==============================] - 1s 4ms/step - loss: 0.0148 - accuracy: 0.9962 - val_loss: 0.1398 - val_accuracy: 0.9776\n",
      "Epoch 25/30\n",
      "140/140 [==============================] - 1s 4ms/step - loss: 0.0118 - accuracy: 0.9960 - val_loss: 0.1031 - val_accuracy: 0.9794\n",
      "Epoch 26/30\n",
      "140/140 [==============================] - 1s 4ms/step - loss: 0.0090 - accuracy: 0.9969 - val_loss: 0.1066 - val_accuracy: 0.9803\n",
      "Epoch 27/30\n",
      "140/140 [==============================] - 0s 3ms/step - loss: 0.0085 - accuracy: 0.9980 - val_loss: 0.1127 - val_accuracy: 0.9803\n",
      "Epoch 28/30\n",
      "140/140 [==============================] - 1s 4ms/step - loss: 0.0123 - accuracy: 0.9966 - val_loss: 0.1098 - val_accuracy: 0.9794\n",
      "Epoch 29/30\n",
      "140/140 [==============================] - 1s 4ms/step - loss: 0.0097 - accuracy: 0.9969 - val_loss: 0.1251 - val_accuracy: 0.9812\n",
      "Epoch 30/30\n",
      "140/140 [==============================] - 0s 3ms/step - loss: 0.0094 - accuracy: 0.9978 - val_loss: 0.1355 - val_accuracy: 0.9812\n"
     ]
    }
   ],
   "source": [
    "#Crear Modelo\n",
    "model = Sequential()\n",
    "model.add(Embedding(500, X_train.shape[1], input_length = 162))\n",
    "model.add(GlobalAveragePooling1D())\n",
    "model.add(Dense(540, activation='relu'))\n",
    "model.add(Dropout(0.3))\n",
    "model.add(Dense(1, activation='sigmoid'))\n",
    "\n",
    "model.compile(loss='binary_crossentropy', optimizer='adam', metrics=['accuracy'])\n",
    "history = model.fit(X_train, y_train, epochs=30, batch_size=32, validation_data=(X_test, y_test))"
   ]
  },
  {
   "cell_type": "code",
   "execution_count": 73,
   "metadata": {},
   "outputs": [
    {
     "name": "stdout",
     "output_type": "stream",
     "text": [
      "35/35 [==============================] - 0s 1ms/step\n",
      "              precision    recall  f1-score   support\n",
      "\n",
      "           0       0.98      0.99      0.99       978\n",
      "           1       0.96      0.88      0.92       137\n",
      "\n",
      "    accuracy                           0.98      1115\n",
      "   macro avg       0.97      0.94      0.95      1115\n",
      "weighted avg       0.98      0.98      0.98      1115\n",
      "\n"
     ]
    }
   ],
   "source": [
    "from sklearn.metrics import accuracy_score, confusion_matrix, classification_report\n",
    "\n",
    "y_pred = list(np.concatenate(model.predict(X_test) > 0.5).astype(int))\n",
    "y_test = list(y_test)\n",
    "\n",
    "report = classification_report(y_test, y_pred)\n",
    "print(report)"
   ]
  },
  {
   "cell_type": "code",
   "execution_count": 74,
   "metadata": {},
   "outputs": [
    {
     "data": {
      "image/png": "[encoded data removed]",
      "text/plain": [
       "<Figure size 700x500 with 2 Axes>"
      ]
     },
     "metadata": {},
     "output_type": "display_data"
    }
   ],
   "source": [
    "confusion = confusion_matrix(y_test, y_pred)\n",
    "class_labels = [\"Legit\", \"Spam\"]\n",
    "\n",
    "plt.figure(figsize=(7, 5)) \n",
    "sns.heatmap(confusion, annot=True,fmt='d', cmap=\"viridis\", xticklabels=class_labels, yticklabels=class_labels)\n",
    "plt.xlabel('Predicciones')\n",
    "plt.ylabel('Valores reales')\n",
    "\n",
    "plt.show()"
   ]
  }
 ],
 "metadata": {
  "kernelspec": {
   "display_name": "Python 3",
   "language": "python",
   "name": "python3"
  },
  "language_info": {
   "codemirror_mode": {
    "name": "ipython",
    "version": 3
   },
   "file_extension": ".py",
   "mimetype": "text/x-python",
   "name": "python",
   "nbconvert_exporter": "python",
   "pygments_lexer": "ipython3",
   "version": "3.9.18"
  }
 },
 "nbformat": 4,
 "nbformat_minor": 2
}
