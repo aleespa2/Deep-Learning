{
 "cells": [
  {
   "cell_type": "markdown",
   "metadata": {},
   "source": [
    "### 0-Importamos las librerias necesarias"
   ]
  },
  {
   "cell_type": "code",
   "execution_count": 1,
   "metadata": {},
   "outputs": [],
   "source": [
    "\n",
    "import pandas as pd\n",
    "import numpy as np\n",
    "import tensorflow as tf\n",
    "from sklearn.neural_network import MLPClassifier\n",
    "from sklearn.metrics import accuracy_score, confusion_matrix, classification_report, mean_absolute_error, mean_squared_error\n",
    "from sklearn.model_selection import train_test_split\n",
    "import re\n",
    "import matplotlib.pyplot as plt\n",
    "from sklearn.impute import SimpleImputer\n",
    "from lightgbm import LGBMClassifier, LGBMRegressor\n",
    "from sklearn.naive_bayes import GaussianNB\n",
    "import os\n",
    "import scipy.io\n",
    "import seaborn as sns\n",
    "from sklearn.preprocessing import StandardScaler\n",
    "from sklearn.preprocessing import MinMaxScaler\n"
   ]
  },
  {
   "cell_type": "markdown",
   "metadata": {},
   "source": [
    "###  1-Importación de datos de ondas cerebrales (electroencefalograma)\n"
   ]
  },
  {
   "cell_type": "markdown",
   "metadata": {},
   "source": [
    "Primero cargaremos los datos de el grupo control"
   ]
  },
  {
   "cell_type": "code",
   "execution_count": 2,
   "metadata": {},
   "outputs": [],
   "source": [
    "\n",
    "# Definimos los canales del EEG que formaran parte de nuestras columnas\n",
    "chanels = ['Fp1', 'Fp2', 'F3', 'F4', 'C3', 'C4', 'P3', 'P4', 'O1', 'O2', 'F7', 'F8', 'T7', 'T8', 'P7', 'P8', 'Fz', 'Cz', 'Pz']\n",
    "\n",
    "\n",
    "# Rutas base para cada conjunto de datos\n",
    "control_path1 = '/Users/Ale/Downloads/adhd1/Control_part1/Control_part1/'\n",
    "control_path2 = '/Users/Ale/Downloads/adhd1/Control_part2/Control_part2/'\n",
    "\n",
    "# Obtenemos los nombres de todos los archivos en ambos directorios\n",
    "control_files1 = [os.path.join(control_path1, f) for f in os.listdir(control_path1) if os.path.isfile(os.path.join(control_path1, f))]\n",
    "control_files2 = [os.path.join(control_path2, f) for f in os.listdir(control_path2) if os.path.isfile(os.path.join(control_path2, f))]\n",
    "\n",
    "# Combinamos las listas de archivos\n",
    "control_files = control_files1 + control_files2\n",
    "\n",
    "control_data = []\n",
    "\n",
    "# Iteramos sobre cada archivo\n",
    "for i, file_path in enumerate(control_files):\n",
    "    mat_data = scipy.io.loadmat(file_path)\n",
    "    name = os.path.basename(file_path).split('.')[0]\n",
    "    values = mat_data[name]\n",
    "\n",
    "    # Creamos un DataFrame para cada archivo .mat\n",
    "    df = pd.DataFrame(values, columns=chanels)\n",
    "\n",
    "    # Insertamos las columnas adicionales\n",
    "    df.insert(0, 'patient_ID', f'control-{i}',)\n",
    "    df.insert(1, 'type', 0)\n",
    "\n",
    "    # Agregamos el DataFrame a la lista\n",
    "    control_data.append(df)\n",
    "\n",
    "# Concatenamos todos los DataFrames en uno solo\n",
    "control = pd.concat(control_data, ignore_index=True)\n"
   ]
  },
  {
   "cell_type": "markdown",
   "metadata": {},
   "source": [
    "Continuamos cargando los datos de el grupo ADHD"
   ]
  },
  {
   "cell_type": "code",
   "execution_count": 3,
   "metadata": {},
   "outputs": [],
   "source": [
    "\n",
    "# Rutas base para cada conjunto de datos\n",
    "ADHD_path1 = '/Users/Ale/Downloads/adhd1/ADHD_part1/ADHD_part1/'\n",
    "ADHD_path2 = '/Users/Ale/Downloads/adhd1/ADHD_part2/ADHD_part2/'\n",
    "\n",
    "# Obtenemos los nombres de todos los archivos en ambos directorios\n",
    "ADHD_files1 = [os.path.join(ADHD_path1, f) for f in os.listdir(ADHD_path1) if os.path.isfile(os.path.join(ADHD_path1, f))]\n",
    "ADHD_files2 = [os.path.join(ADHD_path2, f) for f in os.listdir(ADHD_path2) if os.path.isfile(os.path.join(ADHD_path2, f))]\n",
    "\n",
    "# Combinamos las listas de archivos\n",
    "ADHD_files = ADHD_files1 + ADHD_files2\n",
    "\n",
    "adhd_data = []\n",
    "\n",
    "# Iteramos sobre cada archivo\n",
    "for i, file_path in enumerate(ADHD_files):\n",
    "    mat_data = scipy.io.loadmat(file_path)\n",
    "    name = os.path.basename(file_path).split('.')[0]\n",
    "    values = mat_data[name]\n",
    "\n",
    "    # Creamos un DataFrame para cada archivo .mat\n",
    "    df = pd.DataFrame(values, columns=chanels)\n",
    "\n",
    "    # Insertamos las columnas adicionales\n",
    "    df.insert(0, 'patient_ID', f'ADHD-{i}',)\n",
    "    df.insert(1, 'type', 1)\n",
    "\n",
    "    # Agregamos el DataFrame a la lista\n",
    "    adhd_data.append(df)\n",
    "\n",
    "# Concatenamos todos los DataFrames en uno solo\n",
    "adhd = pd.concat(adhd_data, ignore_index=True)\n"
   ]
  },
  {
   "cell_type": "markdown",
   "metadata": {},
   "source": [
    "Creamos un nuevo df concatenando los anteriores y guardamos el numero de participantes"
   ]
  },
  {
   "cell_type": "code",
   "execution_count": 4,
   "metadata": {},
   "outputs": [
    {
     "data": {
      "text/html": [
       "<div>\n",
       "<style scoped>\n",
       "    .dataframe tbody tr th:only-of-type {\n",
       "        vertical-align: middle;\n",
       "    }\n",
       "\n",
       "    .dataframe tbody tr th {\n",
       "        vertical-align: top;\n",
       "    }\n",
       "\n",
       "    .dataframe thead th {\n",
       "        text-align: right;\n",
       "    }\n",
       "</style>\n",
       "<table border=\"1\" class=\"dataframe\">\n",
       "  <thead>\n",
       "    <tr style=\"text-align: right;\">\n",
       "      <th></th>\n",
       "      <th>patient_ID</th>\n",
       "      <th>type</th>\n",
       "      <th>Fp1</th>\n",
       "      <th>Fp2</th>\n",
       "      <th>F3</th>\n",
       "      <th>F4</th>\n",
       "      <th>C3</th>\n",
       "      <th>C4</th>\n",
       "      <th>P3</th>\n",
       "      <th>P4</th>\n",
       "      <th>...</th>\n",
       "      <th>O2</th>\n",
       "      <th>F7</th>\n",
       "      <th>F8</th>\n",
       "      <th>T7</th>\n",
       "      <th>T8</th>\n",
       "      <th>P7</th>\n",
       "      <th>P8</th>\n",
       "      <th>Fz</th>\n",
       "      <th>Cz</th>\n",
       "      <th>Pz</th>\n",
       "    </tr>\n",
       "  </thead>\n",
       "  <tbody>\n",
       "    <tr>\n",
       "      <th>0</th>\n",
       "      <td>ADHD-0</td>\n",
       "      <td>1</td>\n",
       "      <td>261.0</td>\n",
       "      <td>402.0</td>\n",
       "      <td>16.0</td>\n",
       "      <td>261.0</td>\n",
       "      <td>126.0</td>\n",
       "      <td>384.0</td>\n",
       "      <td>126.0</td>\n",
       "      <td>236.0</td>\n",
       "      <td>...</td>\n",
       "      <td>236.0</td>\n",
       "      <td>200.0</td>\n",
       "      <td>16.0</td>\n",
       "      <td>200.0</td>\n",
       "      <td>494.0</td>\n",
       "      <td>126.0</td>\n",
       "      <td>236.0</td>\n",
       "      <td>121.0</td>\n",
       "      <td>367.0</td>\n",
       "      <td>121.0</td>\n",
       "    </tr>\n",
       "    <tr>\n",
       "      <th>1</th>\n",
       "      <td>ADHD-0</td>\n",
       "      <td>1</td>\n",
       "      <td>121.0</td>\n",
       "      <td>191.0</td>\n",
       "      <td>-94.0</td>\n",
       "      <td>85.0</td>\n",
       "      <td>16.0</td>\n",
       "      <td>200.0</td>\n",
       "      <td>126.0</td>\n",
       "      <td>52.0</td>\n",
       "      <td>...</td>\n",
       "      <td>273.0</td>\n",
       "      <td>16.0</td>\n",
       "      <td>-57.0</td>\n",
       "      <td>126.0</td>\n",
       "      <td>347.0</td>\n",
       "      <td>52.0</td>\n",
       "      <td>52.0</td>\n",
       "      <td>15.0</td>\n",
       "      <td>121.0</td>\n",
       "      <td>-19.0</td>\n",
       "    </tr>\n",
       "    <tr>\n",
       "      <th>2</th>\n",
       "      <td>ADHD-0</td>\n",
       "      <td>1</td>\n",
       "      <td>-55.0</td>\n",
       "      <td>85.0</td>\n",
       "      <td>-204.0</td>\n",
       "      <td>15.0</td>\n",
       "      <td>-57.0</td>\n",
       "      <td>200.0</td>\n",
       "      <td>52.0</td>\n",
       "      <td>126.0</td>\n",
       "      <td>...</td>\n",
       "      <td>200.0</td>\n",
       "      <td>-20.0</td>\n",
       "      <td>-94.0</td>\n",
       "      <td>126.0</td>\n",
       "      <td>420.0</td>\n",
       "      <td>52.0</td>\n",
       "      <td>126.0</td>\n",
       "      <td>-55.0</td>\n",
       "      <td>261.0</td>\n",
       "      <td>85.0</td>\n",
       "    </tr>\n",
       "    <tr>\n",
       "      <th>3</th>\n",
       "      <td>ADHD-0</td>\n",
       "      <td>1</td>\n",
       "      <td>191.0</td>\n",
       "      <td>85.0</td>\n",
       "      <td>52.0</td>\n",
       "      <td>50.0</td>\n",
       "      <td>89.0</td>\n",
       "      <td>236.0</td>\n",
       "      <td>163.0</td>\n",
       "      <td>89.0</td>\n",
       "      <td>...</td>\n",
       "      <td>89.0</td>\n",
       "      <td>89.0</td>\n",
       "      <td>-57.0</td>\n",
       "      <td>236.0</td>\n",
       "      <td>420.0</td>\n",
       "      <td>126.0</td>\n",
       "      <td>126.0</td>\n",
       "      <td>15.0</td>\n",
       "      <td>85.0</td>\n",
       "      <td>-55.0</td>\n",
       "    </tr>\n",
       "    <tr>\n",
       "      <th>4</th>\n",
       "      <td>ADHD-0</td>\n",
       "      <td>1</td>\n",
       "      <td>-55.0</td>\n",
       "      <td>-125.0</td>\n",
       "      <td>-204.0</td>\n",
       "      <td>-160.0</td>\n",
       "      <td>-204.0</td>\n",
       "      <td>16.0</td>\n",
       "      <td>-241.0</td>\n",
       "      <td>-241.0</td>\n",
       "      <td>...</td>\n",
       "      <td>16.0</td>\n",
       "      <td>-20.0</td>\n",
       "      <td>-131.0</td>\n",
       "      <td>89.0</td>\n",
       "      <td>310.0</td>\n",
       "      <td>-57.0</td>\n",
       "      <td>52.0</td>\n",
       "      <td>-55.0</td>\n",
       "      <td>15.0</td>\n",
       "      <td>-336.0</td>\n",
       "    </tr>\n",
       "  </tbody>\n",
       "</table>\n",
       "<p>5 rows × 21 columns</p>\n",
       "</div>"
      ],
      "text/plain": [
       "  patient_ID  type    Fp1    Fp2     F3     F4     C3     C4     P3     P4  \\\n",
       "0     ADHD-0     1  261.0  402.0   16.0  261.0  126.0  384.0  126.0  236.0   \n",
       "1     ADHD-0     1  121.0  191.0  -94.0   85.0   16.0  200.0  126.0   52.0   \n",
       "2     ADHD-0     1  -55.0   85.0 -204.0   15.0  -57.0  200.0   52.0  126.0   \n",
       "3     ADHD-0     1  191.0   85.0   52.0   50.0   89.0  236.0  163.0   89.0   \n",
       "4     ADHD-0     1  -55.0 -125.0 -204.0 -160.0 -204.0   16.0 -241.0 -241.0   \n",
       "\n",
       "   ...     O2     F7     F8     T7     T8     P7     P8     Fz     Cz     Pz  \n",
       "0  ...  236.0  200.0   16.0  200.0  494.0  126.0  236.0  121.0  367.0  121.0  \n",
       "1  ...  273.0   16.0  -57.0  126.0  347.0   52.0   52.0   15.0  121.0  -19.0  \n",
       "2  ...  200.0  -20.0  -94.0  126.0  420.0   52.0  126.0  -55.0  261.0   85.0  \n",
       "3  ...   89.0   89.0  -57.0  236.0  420.0  126.0  126.0   15.0   85.0  -55.0  \n",
       "4  ...   16.0  -20.0 -131.0   89.0  310.0  -57.0   52.0  -55.0   15.0 -336.0  \n",
       "\n",
       "[5 rows x 21 columns]"
      ]
     },
     "execution_count": 4,
     "metadata": {},
     "output_type": "execute_result"
    }
   ],
   "source": [
    "\n",
    "#Concatenamos Nuestros df\n",
    "df = pd.concat([adhd, control], ignore_index=True)\n",
    "\n",
    "#Contamos cuantos pacientes tenemos lo que será útil más tarde\n",
    "n_patients = len(df['patient_ID'].unique())\n",
    "\n",
    "df.head()\n"
   ]
  },
  {
   "cell_type": "markdown",
   "metadata": {},
   "source": [
    "### 2- Creamos nuestras variables de entrenamiento y pruebas"
   ]
  },
  {
   "cell_type": "code",
   "execution_count": 198,
   "metadata": {},
   "outputs": [],
   "source": [
    "\n",
    "# Tamaño variable de grupo de test por defecto 25%\n",
    "test_size = 0.25\n",
    "\n",
    "#Pasamos el test size a un valor sobre el que hacer los saltos de las iteraciones\n",
    "iteration_jumps = 100 // (test_size * 100)\n",
    "\n",
    "#Creamos una variable train que coja los pacientes del rango 0-120 exceptuando los divisores de 'iteration_jumps'\n",
    "#estas excepciones se usaran para en conjunto test\n",
    "test = df[df['patient_ID'].str.split('-').str[1].astype(int).isin(range(0, n_patients, int(iteration_jumps) ))]\n",
    "train = df[~df['patient_ID'].str.split('-').str[1].astype(int).isin(range(0, n_patients, int(iteration_jumps) ))]\n"
   ]
  },
  {
   "cell_type": "code",
   "execution_count": 199,
   "metadata": {},
   "outputs": [],
   "source": [
    "\n",
    "#diferenciamos la X de la y para entrenar al modelo\n",
    "y_train, y_test = train['type'], test['type']\n",
    "X_train, X_test = train.drop(columns=['type']), test.drop(columns=['type'])\n",
    "\n",
    "#Selecionamos unicamente las columnas con valores enteros y las pasamos a numpy array\n",
    "X_train_values = X_train.iloc[:,1:].values\n",
    "X_test_values = X_test.iloc[:,1:].values\n",
    "\n",
    "#Normalizamos los valores para aumentar la precisón de las prediciones\n",
    "scaler = StandardScaler()\n",
    "X_train_values = scaler.fit_transform(X_train_values)\n",
    "X_test_values = scaler.transform(X_test_values)\n"
   ]
  },
  {
   "cell_type": "markdown",
   "metadata": {},
   "source": [
    "### 3- Creamos nuestra red neuronal"
   ]
  },
  {
   "cell_type": "code",
   "execution_count": 200,
   "metadata": {},
   "outputs": [
    {
     "name": "stdout",
     "output_type": "stream",
     "text": [
      "Epoch 1/2\n",
      "3175/3175 [==============================] - 94s 29ms/step - loss: 0.4472 - accuracy: 0.7898 - val_loss: 0.6446 - val_accuracy: 0.6895\n",
      "Epoch 2/2\n",
      "3175/3175 [==============================] - 92s 29ms/step - loss: 0.3883 - accuracy: 0.8227 - val_loss: 0.6627 - val_accuracy: 0.6918\n",
      "16905/16905 [==============================] - 50s 3ms/step\n"
     ]
    }
   ],
   "source": [
    "\n",
    "#Número de caracteristicas y paso de tiempo\n",
    "n_features = len(chanels)  \n",
    "n_timesteps = X_train_values.shape[1] // n_features\n",
    "\n",
    "# Remodelar los datos para la NN\n",
    "X_train_nn = X_train_values.reshape((-1, n_timesteps, n_features))\n",
    "X_test_nn = X_test_values.reshape((-1, n_timesteps, n_features))\n",
    "\n",
    "# Construir el modelo RNN\n",
    "model = tf.keras.models.Sequential([\n",
    "    tf.keras.layers.LSTM(512, activation='tanh', input_shape=(n_timesteps, n_features)),\n",
    "    tf.keras.layers.Dense(512, activation='relu'),\n",
    "    tf.keras.layers.Dense(512, activation='relu'),\n",
    "    tf.keras.layers.Dense(1, activation='sigmoid')\n",
    "])\n",
    "\n",
    "model.compile(optimizer='adam', \n",
    "                  loss='binary_crossentropy', \n",
    "                  metrics=['accuracy'])\n",
    "\n",
    "# Entrenar el modelo\n",
    "model.fit(X_train_nn, y_train, epochs=2, batch_size=512, validation_data=(X_test_nn, y_test))\n",
    "\n",
    "# Realizar predicciones\n",
    "y_pred = model.predict(X_test_nn)\n",
    "y_pred = y_pred.flatten()\n"
   ]
  },
  {
   "cell_type": "markdown",
   "metadata": {},
   "source": [
    "### 4-Analisis de resultados"
   ]
  },
  {
   "cell_type": "code",
   "execution_count": 205,
   "metadata": {},
   "outputs": [],
   "source": [
    "\n",
    "#Añadimos Nuestras prediciones y valores reales nuestro df X_test para hacer comparaciones\n",
    "X_test['pred'] = y_pred\n",
    "X_test['real'] = y_test\n",
    "\n",
    "#Creamos un nuevo df para almacenar el resultado de nuuestras predicciones para poder operar de forma práctica con el\n",
    "result = pd.DataFrame(columns=['patient_ID', 'real_count', 'pred_count', 'real'])\n",
    "X_test = X_test.sort_values(by='patient_ID')\n",
    "\n",
    "#iteramos sobre nuestros usuarios de test\n",
    "for i in X_test['patient_ID'].unique():\n",
    "    #selecionamos las filas asociadas a cada paciente\n",
    "    person = X_test[X_test['patient_ID'] == i]\n",
    "    #añadimos una columna de id, suma de la regresion logistica de esa persona, suma de valores reales y el valor binario real\n",
    "    new_row = [i, len(person), person['pred'].sum(), person['real'].max()]\n",
    "    new_col = pd.DataFrame([new_row], columns=result.columns)\n",
    "    result = pd.concat([result, new_col], ignore_index=True)\n",
    "\n"
   ]
  },
  {
   "cell_type": "markdown",
   "metadata": {},
   "source": [
    "### 5-calcular umbral de regressión óptimo"
   ]
  },
  {
   "cell_type": "code",
   "execution_count": 206,
   "metadata": {},
   "outputs": [
    {
     "name": "stdout",
     "output_type": "stream",
     "text": [
      "maxima precision del modelo teoricamente es: 0.967741935483871 %\n",
      "mejor valor de umbral de regresion: 1.6\n"
     ]
    }
   ],
   "source": [
    "\n",
    "#Creamos las variables de mejor precisión y el mejor valor de umbral\n",
    "best_thershold = 0\n",
    "best_accuracy = 0\n",
    "\n",
    "#iteramos los valores óptimos de umbral\n",
    "for i in range(100,300):\n",
    "    #probamos el umbral del 1.00 al 3.00 iterando por 0.01\n",
    "    result['pred'] = (result['pred_count'] > result['real_count'] / (i/100) ).astype(int)\n",
    "    result['real'] = result['real'].astype(int)\n",
    "    \n",
    "    #calculamos la precision del umbral a iterar\n",
    "    accuracy = accuracy_score(result['real'], result['pred'])\n",
    "    \n",
    "    #actualizamos el umbral si la precisión es mayor\n",
    "    if accuracy > best_accuracy:\n",
    "        best_thershold = i/100\n",
    "        best_accuracy = accuracy\n",
    "        \n",
    "print('maxima precision del modelo teoricamente es:', best_accuracy,'%')\n",
    "print('mejor valor de umbral de regresion:', best_thershold)\n"
   ]
  },
  {
   "cell_type": "markdown",
   "metadata": {},
   "source": [
    "### 6-Calculo final de la precisión aproximada del modelo"
   ]
  },
  {
   "cell_type": "code",
   "execution_count": 207,
   "metadata": {},
   "outputs": [
    {
     "name": "stdout",
     "output_type": "stream",
     "text": [
      "              precision    recall  f1-score   support\n",
      "\n",
      "           0       0.94      1.00      0.97        15\n",
      "           1       1.00      0.94      0.97        16\n",
      "\n",
      "    accuracy                           0.97        31\n",
      "   macro avg       0.97      0.97      0.97        31\n",
      "weighted avg       0.97      0.97      0.97        31\n",
      "\n"
     ]
    }
   ],
   "source": [
    "\n",
    "#Agregamos al df del resultado el mejor umbral de la regresión\n",
    "result['pred'] = (result['pred_count'] > result['real_count'] / best_thershold ).astype(int)\n",
    "result['real'] = result['real'].astype(int)\n",
    "\n",
    "#imprimimos el reporte de precisión del modelo mas optimo\n",
    "report = classification_report(result['real'], result['pred'])\n",
    "print(report)\n"
   ]
  },
  {
   "cell_type": "markdown",
   "metadata": {},
   "source": [
    "### 7- Representación gráfica de los resultados"
   ]
  },
  {
   "cell_type": "code",
   "execution_count": 208,
   "metadata": {},
   "outputs": [
    {
     "data": {
      "image/png": "[encoded data removed]",
      "text/plain": [
       "<Figure size 800x600 with 1 Axes>"
      ]
     },
     "metadata": {},
     "output_type": "display_data"
    }
   ],
   "source": [
    "\n",
    "#creamos nuestra variables de mariz de confusión\n",
    "confusion = confusion_matrix(result['real'], result['pred'])\n",
    "\n",
    "# Puedes convertir la matriz de confusión a un DataFrame para una mejor visualización\n",
    "confusion_df = pd.DataFrame(confusion, columns=['Predicted Control', 'Predicted ADHD'], index=['Actual Control', 'Actual ADHD'])\n",
    "\n",
    "# Utiliza Seaborn para crear un mapa de calor de la matriz de confusión\n",
    "plt.figure(figsize=(8, 6))\n",
    "sns.set(font_scale=1.2)\n",
    "sns.heatmap(confusion_df, annot=True, fmt=\"d\", cmap=\"Blues\", cbar=False, linewidths=0.5, annot_kws={\"size\": 16})\n",
    "plt.show()\n"
   ]
  },
  {
   "cell_type": "code",
   "execution_count": 210,
   "metadata": {},
   "outputs": [
    {
     "data": {
      "image/png": "[encoded data removed]",
      "text/plain": [
       "<Figure size 640x480 with 1 Axes>"
      ]
     },
     "metadata": {},
     "output_type": "display_data"
    }
   ],
   "source": [
    "\n",
    "from sklearn.metrics import roc_curve, auc\n",
    "\n",
    "# Calcular las tasas de verdaderos y falsos positivos y el umbral\n",
    "fpr, tpr, thresholds = roc_curve(result['real'], result['pred'])\n",
    "\n",
    "# Calcular el área bajo la curva ROC\n",
    "roc_auc = auc(fpr, tpr)\n",
    "\n",
    "# Crear la gráfica\n",
    "plt.figure()\n",
    "plt.plot(fpr, tpr, color='darkorange', lw=2, label='ROC curve (area = %0.2f)' % roc_auc)\n",
    "plt.plot([0, 1], [0, 1], color='navy', lw=2, linestyle='--')\n",
    "plt.xlim([0.0, 1.0])\n",
    "plt.ylim([0.0, 1.05])\n",
    "plt.xlabel('False Positive Rate')\n",
    "plt.ylabel('True Positive Rate')\n",
    "plt.title('Receiver Operating Characteristic')\n",
    "plt.legend(loc=\"lower right\")\n",
    "plt.show()\n"
   ]
  }
 ],
 "metadata": {
  "kernelspec": {
   "display_name": "tf",
   "language": "python",
   "name": "python3"
  },
  "language_info": {
   "codemirror_mode": {
    "name": "ipython",
    "version": 3
   },
   "file_extension": ".py",
   "mimetype": "text/x-python",
   "name": "python",
   "nbconvert_exporter": "python",
   "pygments_lexer": "ipython3",
   "version": "3.9.13"
  }
 },
 "nbformat": 4,
 "nbformat_minor": 2
}
